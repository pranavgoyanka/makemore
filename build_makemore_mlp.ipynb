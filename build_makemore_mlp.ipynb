{
 "cells": [
  {
   "cell_type": "markdown",
   "id": "9461dd65",
   "metadata": {},
   "source": [
    "# MLP\n",
    "multilayer perceptron"
   ]
  },
  {
   "cell_type": "code",
   "execution_count": 1,
   "id": "097ed4a4-07e0-4f06-a706-9b025ef820c8",
   "metadata": {},
   "outputs": [],
   "source": [
    "import torch\n",
    "import torch.nn.functional as F\n",
    "import matplotlib.pyplot as plt\n",
    "%matplotlib inline"
   ]
  },
  {
   "cell_type": "code",
   "execution_count": 2,
   "id": "9b8cb917",
   "metadata": {},
   "outputs": [
    {
     "data": {
      "text/plain": [
       "['emma', 'olivia', 'ava', 'isabella', 'sophia', 'charlotte', 'mia', 'amelia']"
      ]
     },
     "execution_count": 2,
     "metadata": {},
     "output_type": "execute_result"
    }
   ],
   "source": [
    "words = open('names.txt', 'r').read().splitlines()\n",
    "words[:8]\n"
   ]
  },
  {
   "cell_type": "code",
   "execution_count": 3,
   "id": "195375d6",
   "metadata": {},
   "outputs": [
    {
     "name": "stdout",
     "output_type": "stream",
     "text": [
      "{1: 'a', 2: 'b', 3: 'c', 4: 'd', 5: 'e', 6: 'f', 7: 'g', 8: 'h', 9: 'i', 10: 'j', 11: 'k', 12: 'l', 13: 'm', 14: 'n', 15: 'o', 16: 'p', 17: 'q', 18: 'r', 19: 's', 20: 't', 21: 'u', 22: 'v', 23: 'w', 24: 'x', 25: 'y', 26: 'z', 0: '.'}\n"
     ]
    }
   ],
   "source": [
    "# build the vocabulary of characters and mappings to/from integers\n",
    "chars = sorted(list(set(''.join(words))))\n",
    "stoi = {s:i+1 for i,s in enumerate(chars)}\n",
    "stoi['.'] = 0\n",
    "itos = {i:s for s,i in stoi.items()}\n",
    "print(itos)"
   ]
  },
  {
   "cell_type": "code",
   "execution_count": 154,
   "id": "85f67b5c",
   "metadata": {},
   "outputs": [
    {
     "name": "stdout",
     "output_type": "stream",
     "text": [
      "torch.Size([182625, 3]) torch.Size([182625])\n",
      "torch.Size([22655, 3]) torch.Size([22655])\n",
      "torch.Size([22866, 3]) torch.Size([22866])\n"
     ]
    }
   ],
   "source": [
    "# build the dataset\n",
    "block_size = 3 # context length: how many characters do we take to predict the next one?\n",
    "def build_dataset(words):\n",
    "  X, Y = [], []\n",
    "  for w in words:\n",
    "    \n",
    "    #print(w)\n",
    "    context = [0] * block_size\n",
    "    for ch in w + '.':\n",
    "      ix = stoi[ch]\n",
    "      X.append(context)\n",
    "      Y.append(ix)\n",
    "      # print(''.join(itos[i] for i in context), '--->', itos[ix])\n",
    "      context = context[1:] + [ix] # crop and append\n",
    "    \n",
    "  X = torch.tensor(X)\n",
    "  Y = torch.tensor(Y)\n",
    "  print(X.shape, Y.shape)\n",
    "  return X, Y\n",
    "\n",
    "import random\n",
    "random.seed(42)\n",
    "random.shuffle(words)\n",
    "n1 = int(0.8*len(words))\n",
    "n2 = int(0.9*len(words))\n",
    "\n",
    "Xtr, Ytr = build_dataset(words[:n1])\n",
    "Xdev, Ydev = build_dataset(words[n1:n2])\n",
    "Xte, Yte = build_dataset(words[n2:])"
   ]
  },
  {
   "cell_type": "code",
   "execution_count": 6,
   "id": "38637106",
   "metadata": {},
   "outputs": [],
   "source": [
    "# We have 27 characters\n",
    "# Let us cram it all into a 2D space\n",
    "# \n",
    "\n",
    "# This is the lookup table\n",
    "# each one of the 27 characters will have a 2D embedding\n",
    "C = torch.randn((27, 2))"
   ]
  },
  {
   "cell_type": "code",
   "execution_count": 56,
   "id": "283df3b4",
   "metadata": {},
   "outputs": [
    {
     "name": "stdout",
     "output_type": "stream",
     "text": [
      "tensor([-0.4924,  1.0145], grad_fn=<SqueezeBackward4>)\n",
      "tensor([-0.4924,  1.0145], grad_fn=<SelectBackward0>)\n"
     ]
    }
   ],
   "source": [
    "# Let's say we want the embedding of the 5th character\n",
    "# It would be C[5]\n",
    "# But why?\n",
    "# Earlier we did\n",
    "print(F.one_hot(torch.tensor(5), num_classes=27).float() @ C)\n",
    "# and it's output is the same at C[5]\n",
    "print(C[5])\n",
    "# Which implies that we can just embedd the entire\n",
    "# matrix X by getting the values of C for each value in X"
   ]
  },
  {
   "cell_type": "code",
   "execution_count": 57,
   "id": "d02caeac",
   "metadata": {},
   "outputs": [
    {
     "data": {
      "text/plain": [
       "torch.Size([228146, 3, 2])"
      ]
     },
     "execution_count": 57,
     "metadata": {},
     "output_type": "execute_result"
    }
   ],
   "source": [
    "emb = C[X]\n",
    "emb.shape"
   ]
  },
  {
   "cell_type": "code",
   "execution_count": 58,
   "id": "f7c13872",
   "metadata": {},
   "outputs": [],
   "source": [
    "# Hidden layer\n",
    "# Our embedding is of the shape: torch.Size([32, 3, 2])\n",
    "# So the number of inputs to this hidden layer would be \n",
    "# 3 x 2 (3 input neurons * 2D per neuron)\n",
    "# The number of neurons in this layer, is a variable upto us\n",
    "# Let's use 100 for the time being\n",
    "W1 = torch.randn((6, 100))\n",
    "b1 = torch.randn(100) # biases"
   ]
  },
  {
   "cell_type": "code",
   "execution_count": 59,
   "id": "63fc7b25",
   "metadata": {},
   "outputs": [
    {
     "name": "stdout",
     "output_type": "stream",
     "text": [
      "torch.Size([228146, 2])\n"
     ]
    }
   ],
   "source": [
    "# What we roughly want to do\n",
    "# emb @ W1 + b1\n",
    "# But this won't work since \n",
    "# emb is torch.Size([32, 3, 2])\n",
    "# and W is 6 x 100\n",
    "# So we somehow need to concat the emb into\n",
    "# a shape that works ie. 32 x 6\n",
    "\n",
    "emb[:, 0, :] # This gives the 32 x 2 embeddings of the first neuron\n",
    "emb[:, 1, :] # This gives the 32 x 2 embeddings of the second neuron\n",
    "emb[:, 2, :] # This gives the 32 x 2 embeddings of the third neuron\n",
    "print(emb[:, 0, :].shape)\n"
   ]
  },
  {
   "cell_type": "code",
   "execution_count": 60,
   "id": "cdbddec5",
   "metadata": {},
   "outputs": [
    {
     "data": {
      "text/plain": [
       "torch.Size([228146, 6])"
      ]
     },
     "execution_count": 60,
     "metadata": {},
     "output_type": "execute_result"
    }
   ],
   "source": [
    "# Now we concat these along dimension 1\n",
    "torch.cat([emb[:, 0, :], emb[:, 1, :], emb[:, 2, :]], 1).shape"
   ]
  },
  {
   "cell_type": "code",
   "execution_count": 12,
   "id": "5708346b",
   "metadata": {},
   "outputs": [
    {
     "data": {
      "text/plain": [
       "torch.Size([32, 6])"
      ]
     },
     "execution_count": 12,
     "metadata": {},
     "output_type": "execute_result"
    }
   ],
   "source": [
    "# this is a cleaner way to do this\n",
    "torch.cat(torch.unbind(emb, 1), 1).shape"
   ]
  },
  {
   "cell_type": "code",
   "execution_count": 13,
   "id": "01f265c0",
   "metadata": {},
   "outputs": [],
   "source": [
    "h = torch.tanh(emb.view(-1, 6) @ W1 + b1)"
   ]
  },
  {
   "cell_type": "code",
   "execution_count": 14,
   "id": "5a00315d",
   "metadata": {},
   "outputs": [
    {
     "data": {
      "text/plain": [
       "tensor([[-0.8648, -0.7958,  0.9699,  ...,  0.6826,  0.9913, -0.9458],\n",
       "        [ 0.9392,  0.9527,  0.9970,  ...,  0.9770,  0.6407,  0.8702],\n",
       "        [-0.9961,  0.8086,  0.7028,  ...,  0.8573,  0.9768,  0.9976],\n",
       "        ...,\n",
       "        [-0.8624, -0.9732,  0.6936,  ...,  0.7411,  0.9658, -0.7367],\n",
       "        [ 0.7497, -0.8045, -0.9756,  ...,  0.6100,  0.9959,  0.0896],\n",
       "        [ 0.9846,  0.5848,  0.7838,  ...,  0.9932,  0.9651,  0.8391]])"
      ]
     },
     "execution_count": 14,
     "metadata": {},
     "output_type": "execute_result"
    }
   ],
   "source": [
    "h"
   ]
  },
  {
   "cell_type": "code",
   "execution_count": 17,
   "id": "b6314fe4",
   "metadata": {},
   "outputs": [],
   "source": [
    "# Now we implement the output layer\n",
    "# Input - 100\n",
    "# Output - 27 (the possible characters that can come next)\n",
    "\n",
    "W2 = torch.randn((100, 27))\n",
    "b2 = torch.randn(27) "
   ]
  },
  {
   "cell_type": "code",
   "execution_count": 18,
   "id": "5e3be328",
   "metadata": {},
   "outputs": [],
   "source": [
    "logits = h @ W2 + b2"
   ]
  },
  {
   "cell_type": "code",
   "execution_count": 19,
   "id": "6fa02bad",
   "metadata": {},
   "outputs": [
    {
     "data": {
      "text/plain": [
       "torch.Size([32, 27])"
      ]
     },
     "execution_count": 19,
     "metadata": {},
     "output_type": "execute_result"
    }
   ],
   "source": [
    "logits.shape"
   ]
  },
  {
   "cell_type": "code",
   "execution_count": 20,
   "id": "4b9d4ba3",
   "metadata": {},
   "outputs": [],
   "source": [
    "counts = logits.exp()"
   ]
  },
  {
   "cell_type": "code",
   "execution_count": 21,
   "id": "37ad1d76",
   "metadata": {},
   "outputs": [],
   "source": [
    "prob = counts / counts.sum(1, keepdim=True)"
   ]
  },
  {
   "cell_type": "code",
   "execution_count": 23,
   "id": "bbf8116b",
   "metadata": {},
   "outputs": [
    {
     "data": {
      "text/plain": [
       "torch.Size([32, 27])"
      ]
     },
     "execution_count": 23,
     "metadata": {},
     "output_type": "execute_result"
    }
   ],
   "source": [
    "prob.shape"
   ]
  },
  {
   "cell_type": "markdown",
   "id": "0bc4e74c",
   "metadata": {},
   "source": [
    "Final layer\n",
    "\n",
    "so now we want to index into probs\n",
    "and for each row, pluck out the prob assigned to the\n",
    "correct character (which is givne using Y)\n",
    "\n",
    "**NLL**\n",
    "\n",
    "We want to get the log probability, and take it's avg and then negative"
   ]
  },
  {
   "cell_type": "code",
   "execution_count": 26,
   "id": "e2597bdb",
   "metadata": {},
   "outputs": [
    {
     "data": {
      "text/plain": [
       "tensor(15.7613)"
      ]
     },
     "execution_count": 26,
     "metadata": {},
     "output_type": "execute_result"
    }
   ],
   "source": [
    "loss = -prob[torch.arange(32), Y].log().mean()\n",
    "loss"
   ]
  },
  {
   "cell_type": "markdown",
   "id": "6c865ce5",
   "metadata": {},
   "source": [
    "### So now, condensing it all into a more readable format"
   ]
  },
  {
   "cell_type": "code",
   "execution_count": 62,
   "id": "5cfbe065",
   "metadata": {},
   "outputs": [
    {
     "data": {
      "text/plain": [
       "(torch.Size([228146, 3]), torch.Size([228146]))"
      ]
     },
     "execution_count": 62,
     "metadata": {},
     "output_type": "execute_result"
    }
   ],
   "source": [
    "# dataset\n",
    "X.shape, Y.shape "
   ]
  },
  {
   "cell_type": "code",
   "execution_count": 202,
   "id": "c2e0d9b6",
   "metadata": {},
   "outputs": [],
   "source": [
    "g = torch.Generator().manual_seed(2147483647) # our seed\n",
    "C = torch.randn((27, 10), generator=g) # each one of the 27 characters will have a 2D embedding\n",
    "\n",
    "# Hidden Layer\n",
    "# The number of neurons in this layer, is a variable upto us\n",
    "# Let's use 100 for the time being\n",
    "W1 = torch.randn((30, 200), generator=g) # this layer receives 3 times 10 inputs\n",
    "b1 = torch.randn(200, generator=g) # biases\n",
    "W2 = torch.randn((200, 27), generator=g)\n",
    "b2 = torch.randn(27, generator=g)\n",
    "parameters = [C, W1, b1, W2, b2]"
   ]
  },
  {
   "cell_type": "code",
   "execution_count": 203,
   "id": "be477828",
   "metadata": {},
   "outputs": [
    {
     "data": {
      "text/plain": [
       "11897"
      ]
     },
     "execution_count": 203,
     "metadata": {},
     "output_type": "execute_result"
    }
   ],
   "source": [
    "sum(p.nelement() for p in parameters) # number of parameters in total"
   ]
  },
  {
   "cell_type": "code",
   "execution_count": 204,
   "id": "bb66b296",
   "metadata": {},
   "outputs": [],
   "source": [
    "for p in parameters:\n",
    "  p.requires_grad = True"
   ]
  },
  {
   "cell_type": "code",
   "execution_count": 205,
   "id": "72f14f6a",
   "metadata": {},
   "outputs": [],
   "source": [
    "lre = torch.linspace(-3, 0, 1000)\n",
    "lrs = 10**lre\n",
    "# lrs"
   ]
  },
  {
   "cell_type": "code",
   "execution_count": 206,
   "id": "8a652b8f",
   "metadata": {},
   "outputs": [],
   "source": [
    "lri = []\n",
    "lossi = []\n",
    "stepi = []"
   ]
  },
  {
   "cell_type": "code",
   "execution_count": 207,
   "id": "220af99d",
   "metadata": {},
   "outputs": [
    {
     "name": "stdout",
     "output_type": "stream",
     "text": [
      "1.8777132034301758\n"
     ]
    }
   ],
   "source": [
    "iters = 2000000\n",
    "for i in range(iters):\n",
    "  # mini batch construct\n",
    "  # will now only get 32 rows of X\n",
    "  ix = torch.randint(0, Xtr.shape[0], (32, ))\n",
    "  \n",
    "  # forward pass\n",
    "  emb = C[Xtr[ix]] # (32, 3, 2)\n",
    "  h = torch.tanh(emb.view(-1, 30) @ W1 + b1) # (32,100)\n",
    "  logits = h @ W2 + b2 # (32, 27)\n",
    "  # counts = logits.exp()\n",
    "  # prob = counts / counts.sum(1, keepdim=True)\n",
    "  # loss = -prob[torch.arange(32), Y].log().mean()\n",
    "\n",
    "  # Inbuilt pytorch function to do the same\n",
    "  # It's preferred because, pytorch will not create the intermediate tensors\n",
    "  # and create efficient and clustered mathematical operations\n",
    "  # It also makes the backward pass easier to implement\n",
    "  loss = F.cross_entropy(logits, Ytr[ix])\n",
    "\n",
    "  # backward pass\n",
    "  for p in parameters:\n",
    "    p.grad = None\n",
    "  loss.backward() # calculate the backward gradient\n",
    "\n",
    "  # update the weights \n",
    "  lr = 0.1 if i < 1000000 else 0.01\n",
    "  for p in parameters:\n",
    "    p.data += -lr * p.grad\n",
    "    \n",
    "  # track metrics\n",
    "  # lri.append(lre[i])\n",
    "  lossi.append(loss.log10().item())\n",
    "  stepi.append(i)\n",
    "    \n",
    "print(loss.item())"
   ]
  },
  {
   "cell_type": "code",
   "execution_count": 208,
   "id": "f99cdd0b",
   "metadata": {},
   "outputs": [
    {
     "data": {
      "text/plain": [
       "[<matplotlib.lines.Line2D at 0x145c36750>]"
      ]
     },
     "execution_count": 208,
     "metadata": {},
     "output_type": "execute_result"
    },
    {
     "data": {
      "image/png": "[encoded data removed]",
      "text/plain": [
       "<Figure size 640x480 with 1 Axes>"
      ]
     },
     "metadata": {},
     "output_type": "display_data"
    }
   ],
   "source": [
    "plt.plot(stepi, lossi)"
   ]
  },
  {
   "cell_type": "code",
   "execution_count": 209,
   "id": "d9197217",
   "metadata": {},
   "outputs": [
    {
     "name": "stdout",
     "output_type": "stream",
     "text": [
      "Test Loss 2.1268222332000732\n"
     ]
    }
   ],
   "source": [
    "# forward pass\n",
    "emb = C[Xte] # (32, 3, 2)\n",
    "h = torch.tanh(emb.view(-1, 30) @ W1 + b1) # (32,100)\n",
    "logits = h @ W2 + b2 # (32, 27)\n",
    "loss = F.cross_entropy(logits, Yte)\n",
    "print(f\"Test Loss {loss.item()}\")"
   ]
  },
  {
   "cell_type": "code",
   "execution_count": 210,
   "id": "6b4380e8",
   "metadata": {},
   "outputs": [
    {
     "name": "stdout",
     "output_type": "stream",
     "text": [
      "Dev Loss 2.121670961380005\n"
     ]
    }
   ],
   "source": [
    "# forward pass\n",
    "emb = C[Xdev] # (32, 3, 2)\n",
    "h = torch.tanh(emb.view(-1, 30) @ W1 + b1) # (32,100)\n",
    "logits = h @ W2 + b2 # (32, 27)\n",
    "loss = F.cross_entropy(logits, Ydev)\n",
    "print(f\"Dev Loss {loss.item()}\")"
   ]
  },
  {
   "cell_type": "code",
   "execution_count": 211,
   "id": "4be22679",
   "metadata": {},
   "outputs": [
    {
     "data": {
      "image/png": "[encoded data removed]",
      "text/plain": [
       "<Figure size 800x800 with 1 Axes>"
      ]
     },
     "metadata": {},
     "output_type": "display_data"
    }
   ],
   "source": [
    "plt.figure(figsize=(8,8))\n",
    "plt.scatter(C[:,0].data, C[:,1].data, s=200)\n",
    "for i in range(C.shape[0]):\n",
    "  plt.text(C[i,0].item(), C[i,1].item(), itos[i], ha=\"center\", va=\"center\", color=\"white\")\n",
    "plt.grid(\"minor\")"
   ]
  },
  {
   "cell_type": "markdown",
   "id": "82172971",
   "metadata": {},
   "source": [
    "# Sampling from the model"
   ]
  },
  {
   "cell_type": "code",
   "execution_count": 212,
   "id": "fe76eabd",
   "metadata": {},
   "outputs": [
    {
     "name": "stdout",
     "output_type": "stream",
     "text": [
      "carmah.\n",
      "amelle.\n",
      "khy.\n",
      "mili.\n",
      "taty.\n",
      "halaysie.\n",
      "mahni.\n",
      "farelyncia.\n",
      "quil.\n",
      "ramari.\n",
      "chaiivia.\n",
      "legend.\n",
      "lucio.\n",
      "miquint.\n",
      "sulis.\n",
      "alianni.\n",
      "wavero.\n",
      "dearisi.\n",
      "jaxsinitraylen.\n",
      "edi.\n"
     ]
    }
   ],
   "source": [
    "# sample from the model\n",
    "g = torch.Generator().manual_seed(2147483647 + 10)\n",
    "\n",
    "for _ in range(20):\n",
    "    \n",
    "    out = []\n",
    "    context = [0] * block_size # initialize with all ...\n",
    "    while True:\n",
    "      emb = C[torch.tensor([context])] # (1,block_size,d)\n",
    "      h = torch.tanh(emb.view(1, -1) @ W1 + b1)\n",
    "      logits = h @ W2 + b2\n",
    "      probs = F.softmax(logits, dim=1)\n",
    "      ix = torch.multinomial(probs, num_samples=1, generator=g).item()\n",
    "      context = context[1:] + [ix]\n",
    "      out.append(ix)\n",
    "      if ix == 0:\n",
    "        break\n",
    "    \n",
    "    print(''.join(itos[i] for i in out))"
   ]
  }
 ],
 "metadata": {
  "kernelspec": {
   "display_name": "ml",
   "language": "python",
   "name": "python3"
  },
  "language_info": {
   "codemirror_mode": {
    "name": "ipython",
    "version": 3
   },
   "file_extension": ".py",
   "mimetype": "text/x-python",
   "name": "python",
   "nbconvert_exporter": "python",
   "pygments_lexer": "ipython3",
   "version": "3.12.3"
  }
 },
 "nbformat": 4,
 "nbformat_minor": 5
}
